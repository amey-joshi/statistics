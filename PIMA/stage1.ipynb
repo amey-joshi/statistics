{
 "cells": [
  {
   "cell_type": "markdown",
   "metadata": {},
   "source": [
    "# Data"
   ]
  },
  {
   "cell_type": "markdown",
   "metadata": {},
   "source": [
    "Read in the three files: clients.csv, loans.csv, payments.csv. These files are related by the following:\n",
    "1. The clients file is the parent of the loans file. Each client can have multiple distinct loans. The client_id column links the two files\n",
    "2. The loans file is the child of the clients file and the parent of the payments file. Each loan can have multiple distinct payments associated with it. The loan_id column links the two files."
   ]
  },
  {
   "cell_type": "code",
   "execution_count": 1,
   "metadata": {},
   "outputs": [],
   "source": [
    "# Import basic packages.\n",
    "import matplotlib.pyplot as plt\n",
    "import numpy as np\n",
    "import pandas as pd"
   ]
  },
  {
   "cell_type": "code",
   "execution_count": 2,
   "metadata": {},
   "outputs": [],
   "source": [
    "# Read the data sets into data frames.\n",
    "clients = pd.read_csv('clients.csv')\n",
    "loans = pd.read_csv('loans.csv')\n",
    "payments = pd.read_csv('payments.csv')"
   ]
  },
  {
   "cell_type": "code",
   "execution_count": 3,
   "metadata": {},
   "outputs": [
    {
     "name": "stdout",
     "output_type": "stream",
     "text": [
      "<class 'pandas.core.frame.DataFrame'>\n",
      "RangeIndex: 25 entries, 0 to 24\n",
      "Data columns (total 4 columns):\n",
      " #   Column        Non-Null Count  Dtype \n",
      "---  ------        --------------  ----- \n",
      " 0   client_id     25 non-null     int64 \n",
      " 1   joined        25 non-null     object\n",
      " 2   income        25 non-null     int64 \n",
      " 3   credit_score  25 non-null     int64 \n",
      "dtypes: int64(3), object(1)\n",
      "memory usage: 928.0+ bytes\n",
      "<class 'pandas.core.frame.DataFrame'>\n",
      "RangeIndex: 443 entries, 0 to 442\n",
      "Data columns (total 8 columns):\n",
      " #   Column       Non-Null Count  Dtype  \n",
      "---  ------       --------------  -----  \n",
      " 0   client_id    443 non-null    int64  \n",
      " 1   loan_type    443 non-null    object \n",
      " 2   loan_amount  443 non-null    int64  \n",
      " 3   repaid       443 non-null    int64  \n",
      " 4   loan_id      443 non-null    int64  \n",
      " 5   loan_start   443 non-null    object \n",
      " 6   loan_end     443 non-null    object \n",
      " 7   rate         443 non-null    float64\n",
      "dtypes: float64(1), int64(4), object(3)\n",
      "memory usage: 27.8+ KB\n",
      "<class 'pandas.core.frame.DataFrame'>\n",
      "RangeIndex: 3456 entries, 0 to 3455\n",
      "Data columns (total 4 columns):\n",
      " #   Column          Non-Null Count  Dtype \n",
      "---  ------          --------------  ----- \n",
      " 0   loan_id         3456 non-null   int64 \n",
      " 1   payment_amount  3456 non-null   int64 \n",
      " 2   payment_date    3456 non-null   object\n",
      " 3   missed          3456 non-null   int64 \n",
      "dtypes: int64(3), object(1)\n",
      "memory usage: 108.1+ KB\n"
     ]
    }
   ],
   "source": [
    "# Quick check of the structure of the data.\n",
    "clients.info()\n",
    "loans.info()\n",
    "payments.info()\n"
   ]
  },
  {
   "cell_type": "code",
   "execution_count": 6,
   "metadata": {},
   "outputs": [
    {
     "name": "stdout",
     "output_type": "stream",
     "text": [
      "(25, 4)\n",
      "(443, 8)\n",
      "(3456, 4)\n",
      "(25, 16)\n"
     ]
    }
   ],
   "source": [
    "print(clients.shape)\n",
    "print(loans.shape)\n",
    "print(payments.shape)"
   ]
  },
  {
   "cell_type": "markdown",
   "metadata": {},
   "source": [
    "With the above datasets, answer the following questions. Show the steps taken to produce your final answer."
   ]
  },
  {
   "cell_type": "markdown",
   "metadata": {},
   "source": [
    "# Section 1 Questions"
   ]
  },
  {
   "cell_type": "markdown",
   "metadata": {},
   "source": [
    "1. Give the 5 client IDs with the highest mean payment amount\n",
    "2. How many unique loans have been given out to clients who joined prior to 2001?\n",
    "3. What is the mean number of payments missed by clients with a credit score of less than 700 and who have missed more than 50 payments?"
   ]
  },
  {
   "cell_type": "code",
   "execution_count": 19,
   "metadata": {},
   "outputs": [
    {
     "data": {
      "text/plain": [
       "0    38537\n",
       "1    49545\n",
       "2    26695\n",
       "3    35214\n",
       "4    29841\n",
       "Name: client_id, dtype: int64"
      ]
     },
     "execution_count": 19,
     "metadata": {},
     "output_type": "execute_result"
    }
   ],
   "source": [
    "# loan_ids with highest mean payment amount.\n",
    "highest_loan_ids = payments[['loan_id', 'payment_amount']]. \\\n",
    "                   groupby('loan_id'). \\\n",
    "                   mean(). \\\n",
    "                   sort_values(ascending=False, by='payment_amount'). \\\n",
    "                   head(5)\n",
    "# Client ids with top 5 mean payment amount.\n",
    "pd.merge(highest_loan_ids, loans, on='loan_id')['client_id']"
   ]
  },
  {
   "cell_type": "code",
   "execution_count": 23,
   "metadata": {},
   "outputs": [
    {
     "data": {
      "text/html": [
       "<div>\n",
       "<style scoped>\n",
       "    .dataframe tbody tr th:only-of-type {\n",
       "        vertical-align: middle;\n",
       "    }\n",
       "\n",
       "    .dataframe tbody tr th {\n",
       "        vertical-align: top;\n",
       "    }\n",
       "\n",
       "    .dataframe thead th {\n",
       "        text-align: right;\n",
       "    }\n",
       "</style>\n",
       "<table border=\"1\" class=\"dataframe\">\n",
       "  <thead>\n",
       "    <tr style=\"text-align: right;\">\n",
       "      <th></th>\n",
       "      <th>client_id</th>\n",
       "      <th>loan_type</th>\n",
       "      <th>loan_amount</th>\n",
       "      <th>repaid</th>\n",
       "      <th>loan_id</th>\n",
       "      <th>loan_start</th>\n",
       "      <th>loan_end</th>\n",
       "      <th>rate</th>\n",
       "    </tr>\n",
       "  </thead>\n",
       "  <tbody>\n",
       "    <tr>\n",
       "      <th>0</th>\n",
       "      <td>46180</td>\n",
       "      <td>home</td>\n",
       "      <td>3022</td>\n",
       "      <td>0</td>\n",
       "      <td>11204</td>\n",
       "      <td>2003-11-22</td>\n",
       "      <td>2005-05-18</td>\n",
       "      <td>8.39</td>\n",
       "    </tr>\n",
       "    <tr>\n",
       "      <th>1</th>\n",
       "      <td>46180</td>\n",
       "      <td>credit</td>\n",
       "      <td>9282</td>\n",
       "      <td>1</td>\n",
       "      <td>10664</td>\n",
       "      <td>2008-03-03</td>\n",
       "      <td>2010-05-16</td>\n",
       "      <td>3.16</td>\n",
       "    </tr>\n",
       "    <tr>\n",
       "      <th>2</th>\n",
       "      <td>46180</td>\n",
       "      <td>cash</td>\n",
       "      <td>14007</td>\n",
       "      <td>1</td>\n",
       "      <td>10416</td>\n",
       "      <td>2003-12-05</td>\n",
       "      <td>2005-05-14</td>\n",
       "      <td>3.95</td>\n",
       "    </tr>\n",
       "    <tr>\n",
       "      <th>3</th>\n",
       "      <td>46180</td>\n",
       "      <td>cash</td>\n",
       "      <td>5943</td>\n",
       "      <td>0</td>\n",
       "      <td>11317</td>\n",
       "      <td>2011-10-18</td>\n",
       "      <td>2013-11-03</td>\n",
       "      <td>6.86</td>\n",
       "    </tr>\n",
       "    <tr>\n",
       "      <th>4</th>\n",
       "      <td>46180</td>\n",
       "      <td>other</td>\n",
       "      <td>3834</td>\n",
       "      <td>0</td>\n",
       "      <td>10887</td>\n",
       "      <td>2014-05-03</td>\n",
       "      <td>2016-02-24</td>\n",
       "      <td>1.38</td>\n",
       "    </tr>\n",
       "    <tr>\n",
       "      <th>...</th>\n",
       "      <td>...</td>\n",
       "      <td>...</td>\n",
       "      <td>...</td>\n",
       "      <td>...</td>\n",
       "      <td>...</td>\n",
       "      <td>...</td>\n",
       "      <td>...</td>\n",
       "      <td>...</td>\n",
       "    </tr>\n",
       "    <tr>\n",
       "      <th>80</th>\n",
       "      <td>26945</td>\n",
       "      <td>other</td>\n",
       "      <td>12963</td>\n",
       "      <td>0</td>\n",
       "      <td>10330</td>\n",
       "      <td>2001-11-26</td>\n",
       "      <td>2004-06-11</td>\n",
       "      <td>2.46</td>\n",
       "    </tr>\n",
       "    <tr>\n",
       "      <th>81</th>\n",
       "      <td>26945</td>\n",
       "      <td>credit</td>\n",
       "      <td>1728</td>\n",
       "      <td>1</td>\n",
       "      <td>10248</td>\n",
       "      <td>2004-01-27</td>\n",
       "      <td>2005-06-21</td>\n",
       "      <td>5.27</td>\n",
       "    </tr>\n",
       "    <tr>\n",
       "      <th>82</th>\n",
       "      <td>26945</td>\n",
       "      <td>other</td>\n",
       "      <td>9329</td>\n",
       "      <td>0</td>\n",
       "      <td>10154</td>\n",
       "      <td>2001-12-17</td>\n",
       "      <td>2004-07-22</td>\n",
       "      <td>5.65</td>\n",
       "    </tr>\n",
       "    <tr>\n",
       "      <th>83</th>\n",
       "      <td>26945</td>\n",
       "      <td>home</td>\n",
       "      <td>4197</td>\n",
       "      <td>0</td>\n",
       "      <td>10333</td>\n",
       "      <td>2003-10-16</td>\n",
       "      <td>2005-07-10</td>\n",
       "      <td>4.50</td>\n",
       "    </tr>\n",
       "    <tr>\n",
       "      <th>84</th>\n",
       "      <td>26945</td>\n",
       "      <td>home</td>\n",
       "      <td>3643</td>\n",
       "      <td>0</td>\n",
       "      <td>11434</td>\n",
       "      <td>2010-03-24</td>\n",
       "      <td>2011-12-22</td>\n",
       "      <td>0.13</td>\n",
       "    </tr>\n",
       "  </tbody>\n",
       "</table>\n",
       "<p>85 rows × 8 columns</p>\n",
       "</div>"
      ],
      "text/plain": [
       "    client_id loan_type  loan_amount  repaid  loan_id  loan_start    loan_end  \\\n",
       "0       46180      home         3022       0    11204  2003-11-22  2005-05-18   \n",
       "1       46180    credit         9282       1    10664  2008-03-03  2010-05-16   \n",
       "2       46180      cash        14007       1    10416  2003-12-05  2005-05-14   \n",
       "3       46180      cash         5943       0    11317  2011-10-18  2013-11-03   \n",
       "4       46180     other         3834       0    10887  2014-05-03  2016-02-24   \n",
       "..        ...       ...          ...     ...      ...         ...         ...   \n",
       "80      26945     other        12963       0    10330  2001-11-26  2004-06-11   \n",
       "81      26945    credit         1728       1    10248  2004-01-27  2005-06-21   \n",
       "82      26945     other         9329       0    10154  2001-12-17  2004-07-22   \n",
       "83      26945      home         4197       0    10333  2003-10-16  2005-07-10   \n",
       "84      26945      home         3643       0    11434  2010-03-24  2011-12-22   \n",
       "\n",
       "    rate  \n",
       "0   8.39  \n",
       "1   3.16  \n",
       "2   3.95  \n",
       "3   6.86  \n",
       "4   1.38  \n",
       "..   ...  \n",
       "80  2.46  \n",
       "81  5.27  \n",
       "82  5.65  \n",
       "83  4.50  \n",
       "84  0.13  \n",
       "\n",
       "[85 rows x 8 columns]"
      ]
     },
     "execution_count": 23,
     "metadata": {},
     "output_type": "execute_result"
    }
   ],
   "source": [
    "# Convert the attribute 'joined' in the dataframe clients in datatime format.\n",
    "clients['joined'] = pd.to_datetime(clients['joined'])\n",
    "clients_prior_to_2001 = clients.loc[clients['joined'].dt.year <= 2001]['client_id']\n",
    "pd.merge(clients_prior_to_2001, loans, on='client_id')"
   ]
  },
  {
   "cell_type": "markdown",
   "metadata": {},
   "source": [
    "# Section 2 Questions"
   ]
  },
  {
   "cell_type": "code",
   "execution_count": 43,
   "metadata": {},
   "outputs": [
    {
     "data": {
      "text/plain": [
       "69.25"
      ]
     },
     "execution_count": 43,
     "metadata": {},
     "output_type": "execute_result"
    }
   ],
   "source": [
    "# Clients with credit score < 700.\n",
    "clients_poor_cs = clients.loc[clients['credit_score'] < 700]['client_id']\n",
    "# Loan ids of these clients.\n",
    "loan_ids_poor_cs = pd.merge(clients_poor_cs, loans, on='client_id')[['client_id', 'loan_id']]\n",
    "# Payment details of these clients.\n",
    "payments_poor_cs = pd.merge(loan_ids_poor_cs, payments, on='loan_id')\n",
    "# Get count of missed payments by client.\n",
    "missed_payments = payments_poor_cs.loc[payments_poor_cs['missed'] == 1].groupby('client_id').count()['missed']\n",
    "# Get the mean number of missed payments where the missed count > 50. \n",
    "missed_payments[missed_payments > 50].mean()\n"
   ]
  },
  {
   "cell_type": "markdown",
   "metadata": {},
   "source": [
    "Create the following visualizations:\n",
    "    \n",
    "1. Create a histogram of the payment amounts. Briefly describe the distribution.\n",
    "2. Produce a line plot the cumulative sum of the number of clients by year.\n",
    "3. Produce a scatter plot of the percentage of payments missed in december for each year in the dataset."
   ]
  },
  {
   "cell_type": "code",
   "execution_count": 44,
   "metadata": {},
   "outputs": [
    {
     "data": {
      "text/plain": [
       "<AxesSubplot:>"
      ]
     },
     "execution_count": 44,
     "metadata": {},
     "output_type": "execute_result"
    },
    {
     "data": {
      "image/png": "[encoded data removed]",
      "text/plain": [
       "<Figure size 432x288 with 1 Axes>"
      ]
     },
     "metadata": {
      "needs_background": "light"
     },
     "output_type": "display_data"
    }
   ],
   "source": [
    "payments['payment_amount'].hist()"
   ]
  },
  {
   "cell_type": "code",
   "execution_count": 63,
   "metadata": {},
   "outputs": [
    {
     "data": {
      "text/plain": [
       "Text(0.5, 1.0, 'Cumulative sum of clients by year')"
      ]
     },
     "execution_count": 63,
     "metadata": {},
     "output_type": "execute_result"
    },
    {
     "data": {
      "image/png": "[encoded data removed]",
      "text/plain": [
       "<Figure size 432x288 with 1 Axes>"
      ]
     },
     "metadata": {
      "needs_background": "light"
     },
     "output_type": "display_data"
    }
   ],
   "source": [
    "clients['joined_year'] = clients['joined'].dt.year\n",
    "ax = clients[['client_id', 'joined_year']].groupby('joined_year').count().cumsum().reset_index().plot('joined_year', 'client_id')\n",
    "ax.set_xlabel('year')\n",
    "ax.set_ylabel('# clients')\n",
    "ax.set_title('Cumulative sum of clients by year')\n"
   ]
  },
  {
   "cell_type": "code",
   "execution_count": 86,
   "metadata": {},
   "outputs": [
    {
     "data": {
      "text/plain": [
       "Text(0.5, 1.0, 'Percentage of payments missed in December')"
      ]
     },
     "execution_count": 86,
     "metadata": {},
     "output_type": "execute_result"
    },
    {
     "data": {
      "image/png": "[encoded data removed]",
      "text/plain": [
       "<Figure size 432x288 with 1 Axes>"
      ]
     },
     "metadata": {
      "needs_background": "light"
     },
     "output_type": "display_data"
    }
   ],
   "source": [
    "payments['payment_date'] = pd.to_datetime(payments['payment_date'])\n",
    "payments['payment_year'] = payments['payment_date'].dt.year\n",
    "payments['payment_month'] = payments['payment_date'].dt.month\n",
    "dec_count = payments.loc[payments['payment_month'] == 12][['loan_id', 'payment_year']].groupby('payment_year').count().rename(columns={'loan_id': 'n_loans'}).reset_index()\n",
    "#\n",
    "dec_missed_count = payments.loc[((payments['payment_month'] == 12) & (payments['missed'] == 1))][['loan_id', 'payment_year']].groupby('payment_year').count().rename(columns={'loan_id': 'n_loans_missed'}).reset_index()\n",
    "\n",
    "X = pd.merge(dec_count, dec_missed_count, on='payment_year')\n",
    "X['pct_missed'] = round(X['n_loans_missed']/X['n_loans'] * 100, 2)\n",
    "ax = X.plot('payment_year', 'pct_missed')\n",
    "ax.set_xlabel('year')\n",
    "ax.set_ylabel('% missed')\n",
    "ax.set_title('Percentage of payments missed in December')"
   ]
  },
  {
   "cell_type": "markdown",
   "metadata": {},
   "source": [
    "# Section 3 - Modelling"
   ]
  },
  {
   "cell_type": "markdown",
   "metadata": {},
   "source": [
    "Create a model that will predict whether a person does or does not have diabetes. Use the diabetes.csv dataset. The target column in the dataset is \"Outcome\". Assume no features leak information about the target.\n",
    "\n",
    "Your solution should include the below. You may use whichever python libraries you wish to complete the task:\n",
    "1. Feature engineering\n",
    "2. Model fitting and performance evaluation\n",
    "3. A function that takes as arguments: a model, train data, test data, and returns the model's predictions on the test data\n",
    "4. A function that takes a set of predictions and true values and that validates the predictions using appropriate metrics\n",
    "5. Anything else you feel is necessary for modelling or improving the performance of your model\n",
    "\n",
    "\n",
    "__This exercise is intended for you to show your proficiency in machine learning, understanding of the various techniques that can be employed to improve the performance of a model, and your ability to implement those techniques. Please, therefore, show your working at all times. You will be judged more for the above than for the performance of the final model your produce.__"
   ]
  }
 ],
 "metadata": {
  "kernelspec": {
   "display_name": "Python 3",
   "language": "python",
   "name": "python3"
  },
  "language_info": {
   "codemirror_mode": {
    "name": "ipython",
    "version": 3
   },
   "file_extension": ".py",
   "mimetype": "text/x-python",
   "name": "python",
   "nbconvert_exporter": "python",
   "pygments_lexer": "ipython3",
   "version": "3.8.5"
  }
 },
 "nbformat": 4,
 "nbformat_minor": 2
}
